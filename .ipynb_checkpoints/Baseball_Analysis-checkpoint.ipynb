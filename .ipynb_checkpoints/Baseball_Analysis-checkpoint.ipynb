{
 "cells": [
  {
   "cell_type": "markdown",
   "metadata": {},
   "source": [
    "# Is Moneyball still relevant?\n",
    "\n",
    "## Introduction\n",
    "\n",
    "Michael Lewis's bestseller *Moneyball*  talks about Oakland Athletics' unexpected success in early 2000's. The secret to their success, or the \"science of winning an unfair game\" as Michael Lewis puts it, was putting all variables in baseball to statistical testing and finding out the ones that are truly relevant. According to Paul DePodesta, who was an an assistant to general manager Billy Beane, the statistics that correlated most closely with winning percentage were on-base percentage(OBP) and slugging percentage(SLG). DePodesta used data from every baseball team in the twentieth century and discovered that those two statistics, both of which are offensive, are the most meaningful predictors of a team's success and everything else was far less important.\n",
    "\n",
    "For me, the most intriguing part of DePodesta's argument lied in the fact that he claimed offensive statistics mattered more than the defensive ones. In Korea, baseball is generally believed to be all about the pitchers; in fact, baseball is often referred to as \"the sport of pitchers\" there. Overall, contrary to DePodesta's argument, in Korea, offensive statistics are the ones usually regarded as less important and the pitching statistics, especially those of the starters, are the ones deemed far more important.\n",
    "\n",
    "In this project, I will test the validity of DePodesta's argument in the context of baseball after DePodesta's time. Through the project, I will see if Korean view of baseball is relevant in Major League Baseball by taking statistics from starting pitchers into account. In summary, I will use statistics of every baseball team from 2000 to 2015 and answer the following questions. \n",
    "\n",
    "**Question1**: What are the statistics most closely correlated to winning baseball games?\n",
    "\n",
    "**Question2**: Are OBP and SLG more important factors than other statistics?\n",
    "\n",
    "**Question3**: What are the factors less important in winning baseball games?\n",
    "\n",
    "**Question4**: What are the statistics overvalued by conventional wisdom?\n",
    "\n"
   ]
  },
  {
   "cell_type": "markdown",
   "metadata": {},
   "source": [
    "## Data Organization"
   ]
  },
  {
   "cell_type": "markdown",
   "metadata": {},
   "source": [
    "### Geting Team data"
   ]
  },
  {
   "cell_type": "code",
   "execution_count": 1,
   "metadata": {
    "collapsed": false
   },
   "outputs": [
    {
     "data": {
      "text/html": [
       "<div>\n",
       "<table border=\"1\" class=\"dataframe\">\n",
       "  <thead>\n",
       "    <tr style=\"text-align: right;\">\n",
       "      <th></th>\n",
       "      <th>yearID</th>\n",
       "      <th>teamID</th>\n",
       "      <th>W</th>\n",
       "      <th>G</th>\n",
       "      <th>HR</th>\n",
       "      <th>R</th>\n",
       "      <th>AB</th>\n",
       "      <th>H</th>\n",
       "      <th>BB</th>\n",
       "      <th>HBP</th>\n",
       "      <th>...</th>\n",
       "      <th>FP</th>\n",
       "      <th>E</th>\n",
       "      <th>DP</th>\n",
       "      <th>HRA</th>\n",
       "      <th>HA</th>\n",
       "      <th>BBA</th>\n",
       "      <th>SOA</th>\n",
       "      <th>SV</th>\n",
       "      <th>attendance</th>\n",
       "      <th>BPF</th>\n",
       "    </tr>\n",
       "  </thead>\n",
       "  <tbody>\n",
       "    <tr>\n",
       "      <th>2325</th>\n",
       "      <td>2000</td>\n",
       "      <td>ANA</td>\n",
       "      <td>82</td>\n",
       "      <td>162</td>\n",
       "      <td>236</td>\n",
       "      <td>864</td>\n",
       "      <td>5628</td>\n",
       "      <td>1574</td>\n",
       "      <td>608</td>\n",
       "      <td>47.0</td>\n",
       "      <td>...</td>\n",
       "      <td>0.978</td>\n",
       "      <td>134</td>\n",
       "      <td>182.0</td>\n",
       "      <td>228</td>\n",
       "      <td>1534</td>\n",
       "      <td>662</td>\n",
       "      <td>846</td>\n",
       "      <td>46</td>\n",
       "      <td>2066982.0</td>\n",
       "      <td>102</td>\n",
       "    </tr>\n",
       "    <tr>\n",
       "      <th>2326</th>\n",
       "      <td>2000</td>\n",
       "      <td>ARI</td>\n",
       "      <td>85</td>\n",
       "      <td>162</td>\n",
       "      <td>179</td>\n",
       "      <td>792</td>\n",
       "      <td>5527</td>\n",
       "      <td>1466</td>\n",
       "      <td>535</td>\n",
       "      <td>59.0</td>\n",
       "      <td>...</td>\n",
       "      <td>0.982</td>\n",
       "      <td>107</td>\n",
       "      <td>138.0</td>\n",
       "      <td>190</td>\n",
       "      <td>1441</td>\n",
       "      <td>500</td>\n",
       "      <td>1220</td>\n",
       "      <td>38</td>\n",
       "      <td>2942251.0</td>\n",
       "      <td>105</td>\n",
       "    </tr>\n",
       "    <tr>\n",
       "      <th>2327</th>\n",
       "      <td>2000</td>\n",
       "      <td>ATL</td>\n",
       "      <td>95</td>\n",
       "      <td>162</td>\n",
       "      <td>179</td>\n",
       "      <td>810</td>\n",
       "      <td>5489</td>\n",
       "      <td>1490</td>\n",
       "      <td>595</td>\n",
       "      <td>59.0</td>\n",
       "      <td>...</td>\n",
       "      <td>0.979</td>\n",
       "      <td>129</td>\n",
       "      <td>138.0</td>\n",
       "      <td>165</td>\n",
       "      <td>1428</td>\n",
       "      <td>484</td>\n",
       "      <td>1093</td>\n",
       "      <td>53</td>\n",
       "      <td>3234304.0</td>\n",
       "      <td>101</td>\n",
       "    </tr>\n",
       "    <tr>\n",
       "      <th>2328</th>\n",
       "      <td>2000</td>\n",
       "      <td>BAL</td>\n",
       "      <td>74</td>\n",
       "      <td>162</td>\n",
       "      <td>184</td>\n",
       "      <td>794</td>\n",
       "      <td>5549</td>\n",
       "      <td>1508</td>\n",
       "      <td>558</td>\n",
       "      <td>49.0</td>\n",
       "      <td>...</td>\n",
       "      <td>0.981</td>\n",
       "      <td>116</td>\n",
       "      <td>151.0</td>\n",
       "      <td>202</td>\n",
       "      <td>1547</td>\n",
       "      <td>665</td>\n",
       "      <td>1017</td>\n",
       "      <td>33</td>\n",
       "      <td>3297031.0</td>\n",
       "      <td>95</td>\n",
       "    </tr>\n",
       "    <tr>\n",
       "      <th>2329</th>\n",
       "      <td>2000</td>\n",
       "      <td>BOS</td>\n",
       "      <td>85</td>\n",
       "      <td>162</td>\n",
       "      <td>167</td>\n",
       "      <td>792</td>\n",
       "      <td>5630</td>\n",
       "      <td>1503</td>\n",
       "      <td>611</td>\n",
       "      <td>42.0</td>\n",
       "      <td>...</td>\n",
       "      <td>0.982</td>\n",
       "      <td>109</td>\n",
       "      <td>120.0</td>\n",
       "      <td>173</td>\n",
       "      <td>1433</td>\n",
       "      <td>498</td>\n",
       "      <td>1121</td>\n",
       "      <td>46</td>\n",
       "      <td>2585895.0</td>\n",
       "      <td>104</td>\n",
       "    </tr>\n",
       "  </tbody>\n",
       "</table>\n",
       "<p>5 rows × 26 columns</p>\n",
       "</div>"
      ],
      "text/plain": [
       "      yearID teamID   W    G   HR    R    AB     H   BB   HBP ...      FP  \\\n",
       "2325    2000    ANA  82  162  236  864  5628  1574  608  47.0 ...   0.978   \n",
       "2326    2000    ARI  85  162  179  792  5527  1466  535  59.0 ...   0.982   \n",
       "2327    2000    ATL  95  162  179  810  5489  1490  595  59.0 ...   0.979   \n",
       "2328    2000    BAL  74  162  184  794  5549  1508  558  49.0 ...   0.981   \n",
       "2329    2000    BOS  85  162  167  792  5630  1503  611  42.0 ...   0.982   \n",
       "\n",
       "        E     DP  HRA    HA  BBA   SOA  SV  attendance  BPF  \n",
       "2325  134  182.0  228  1534  662   846  46   2066982.0  102  \n",
       "2326  107  138.0  190  1441  500  1220  38   2942251.0  105  \n",
       "2327  129  138.0  165  1428  484  1093  53   3234304.0  101  \n",
       "2328  116  151.0  202  1547  665  1017  33   3297031.0   95  \n",
       "2329  109  120.0  173  1433  498  1121  46   2585895.0  104  \n",
       "\n",
       "[5 rows x 26 columns]"
      ]
     },
     "execution_count": 1,
     "metadata": {},
     "output_type": "execute_result"
    }
   ],
   "source": [
    "# mport all necessary packages and functions.\n",
    "import csv\n",
    "import numpy as np\n",
    "import pandas as pd\n",
    "\n",
    "\n",
    "# Download Team data from The Lahman Baseball Database\n",
    "filename = 'Teams.csv'\n",
    "team_df = pd.read_csv(filename)\n",
    "\n",
    "\n",
    "# Select data from 2000~2015 and statistics that are relevant to my project\n",
    "teams_df=team_df[team_df['yearID'] > 1999][['yearID', 'teamID', 'W', 'G', 'HR', 'R', 'AB', 'H','BB', 'HBP', 'SF', 'SB','2B', '3B', 'ERA', 'Rank','FP', 'E', 'DP', 'HRA', 'HA','BBA','SOA','SV', 'attendance', 'BPF']]\n",
    "\n",
    "teams_df.head()"
   ]
  },
  {
   "cell_type": "markdown",
   "metadata": {},
   "source": [
    "### Getting Starting Pitchers' Data"
   ]
  },
  {
   "cell_type": "code",
   "execution_count": 2,
   "metadata": {
    "collapsed": false
   },
   "outputs": [
    {
     "data": {
      "text/html": [
       "<div>\n",
       "<table border=\"1\" class=\"dataframe\">\n",
       "  <thead>\n",
       "    <tr style=\"text-align: right;\">\n",
       "      <th></th>\n",
       "      <th>playerID</th>\n",
       "      <th>yearID</th>\n",
       "      <th>stint</th>\n",
       "      <th>teamID</th>\n",
       "      <th>lgID</th>\n",
       "      <th>W</th>\n",
       "      <th>L</th>\n",
       "      <th>G</th>\n",
       "      <th>GS</th>\n",
       "      <th>CG</th>\n",
       "      <th>...</th>\n",
       "      <th>IBB</th>\n",
       "      <th>WP</th>\n",
       "      <th>HBP</th>\n",
       "      <th>BK</th>\n",
       "      <th>BFP</th>\n",
       "      <th>GF</th>\n",
       "      <th>R</th>\n",
       "      <th>SH</th>\n",
       "      <th>SF</th>\n",
       "      <th>GIDP</th>\n",
       "    </tr>\n",
       "  </thead>\n",
       "  <tbody>\n",
       "    <tr>\n",
       "      <th>32900</th>\n",
       "      <td>abbotpa01</td>\n",
       "      <td>2000</td>\n",
       "      <td>1</td>\n",
       "      <td>SEA</td>\n",
       "      <td>AL</td>\n",
       "      <td>9</td>\n",
       "      <td>7</td>\n",
       "      <td>35</td>\n",
       "      <td>27</td>\n",
       "      <td>0</td>\n",
       "      <td>...</td>\n",
       "      <td>4.0</td>\n",
       "      <td>3.0</td>\n",
       "      <td>5.0</td>\n",
       "      <td>0</td>\n",
       "      <td>766.0</td>\n",
       "      <td>2.0</td>\n",
       "      <td>89</td>\n",
       "      <td>1.0</td>\n",
       "      <td>4.0</td>\n",
       "      <td>NaN</td>\n",
       "    </tr>\n",
       "    <tr>\n",
       "      <th>32909</th>\n",
       "      <td>anderbr02</td>\n",
       "      <td>2000</td>\n",
       "      <td>1</td>\n",
       "      <td>ARI</td>\n",
       "      <td>NL</td>\n",
       "      <td>11</td>\n",
       "      <td>7</td>\n",
       "      <td>33</td>\n",
       "      <td>32</td>\n",
       "      <td>2</td>\n",
       "      <td>...</td>\n",
       "      <td>7.0</td>\n",
       "      <td>1.0</td>\n",
       "      <td>3.0</td>\n",
       "      <td>4</td>\n",
       "      <td>876.0</td>\n",
       "      <td>0.0</td>\n",
       "      <td>101</td>\n",
       "      <td>6.0</td>\n",
       "      <td>6.0</td>\n",
       "      <td>NaN</td>\n",
       "    </tr>\n",
       "    <tr>\n",
       "      <th>32910</th>\n",
       "      <td>anderji02</td>\n",
       "      <td>2000</td>\n",
       "      <td>1</td>\n",
       "      <td>PIT</td>\n",
       "      <td>NL</td>\n",
       "      <td>5</td>\n",
       "      <td>11</td>\n",
       "      <td>27</td>\n",
       "      <td>26</td>\n",
       "      <td>1</td>\n",
       "      <td>...</td>\n",
       "      <td>2.0</td>\n",
       "      <td>6.0</td>\n",
       "      <td>7.0</td>\n",
       "      <td>0</td>\n",
       "      <td>648.0</td>\n",
       "      <td>0.0</td>\n",
       "      <td>94</td>\n",
       "      <td>5.0</td>\n",
       "      <td>3.0</td>\n",
       "      <td>NaN</td>\n",
       "    </tr>\n",
       "    <tr>\n",
       "      <th>32913</th>\n",
       "      <td>ankieri01</td>\n",
       "      <td>2000</td>\n",
       "      <td>1</td>\n",
       "      <td>SLN</td>\n",
       "      <td>NL</td>\n",
       "      <td>11</td>\n",
       "      <td>7</td>\n",
       "      <td>31</td>\n",
       "      <td>30</td>\n",
       "      <td>0</td>\n",
       "      <td>...</td>\n",
       "      <td>2.0</td>\n",
       "      <td>12.0</td>\n",
       "      <td>6.0</td>\n",
       "      <td>2</td>\n",
       "      <td>735.0</td>\n",
       "      <td>0.0</td>\n",
       "      <td>80</td>\n",
       "      <td>8.0</td>\n",
       "      <td>6.0</td>\n",
       "      <td>NaN</td>\n",
       "    </tr>\n",
       "    <tr>\n",
       "      <th>32914</th>\n",
       "      <td>appieke01</td>\n",
       "      <td>2000</td>\n",
       "      <td>1</td>\n",
       "      <td>OAK</td>\n",
       "      <td>AL</td>\n",
       "      <td>15</td>\n",
       "      <td>11</td>\n",
       "      <td>31</td>\n",
       "      <td>31</td>\n",
       "      <td>1</td>\n",
       "      <td>...</td>\n",
       "      <td>10.0</td>\n",
       "      <td>6.0</td>\n",
       "      <td>9.0</td>\n",
       "      <td>0</td>\n",
       "      <td>884.0</td>\n",
       "      <td>0.0</td>\n",
       "      <td>109</td>\n",
       "      <td>5.0</td>\n",
       "      <td>6.0</td>\n",
       "      <td>NaN</td>\n",
       "    </tr>\n",
       "  </tbody>\n",
       "</table>\n",
       "<p>5 rows × 30 columns</p>\n",
       "</div>"
      ],
      "text/plain": [
       "        playerID  yearID  stint teamID lgID   W   L   G  GS  CG  ...    IBB  \\\n",
       "32900  abbotpa01    2000      1    SEA   AL   9   7  35  27   0  ...    4.0   \n",
       "32909  anderbr02    2000      1    ARI   NL  11   7  33  32   2  ...    7.0   \n",
       "32910  anderji02    2000      1    PIT   NL   5  11  27  26   1  ...    2.0   \n",
       "32913  ankieri01    2000      1    SLN   NL  11   7  31  30   0  ...    2.0   \n",
       "32914  appieke01    2000      1    OAK   AL  15  11  31  31   1  ...   10.0   \n",
       "\n",
       "         WP  HBP  BK    BFP   GF    R   SH   SF  GIDP  \n",
       "32900   3.0  5.0   0  766.0  2.0   89  1.0  4.0   NaN  \n",
       "32909   1.0  3.0   4  876.0  0.0  101  6.0  6.0   NaN  \n",
       "32910   6.0  7.0   0  648.0  0.0   94  5.0  3.0   NaN  \n",
       "32913  12.0  6.0   2  735.0  0.0   80  8.0  6.0   NaN  \n",
       "32914   6.0  9.0   0  884.0  0.0  109  5.0  6.0   NaN  \n",
       "\n",
       "[5 rows x 30 columns]"
      ]
     },
     "execution_count": 2,
     "metadata": {},
     "output_type": "execute_result"
    }
   ],
   "source": [
    "# Obtain pitching data from The Lahman Baseball Database\n",
    "filename = 'Pitching.csv'\n",
    "df = pd.read_csv(filename)\n",
    "\n",
    "# Select data from 2000~2015 and since the project only looks at starters, choose players who started the game more than 10 times in a season.\n",
    "pitching_df=df[(df['yearID'] > 1999) & (df['GS'] > 10)]\n",
    "\n",
    "pitching_df.head()"
   ]
  },
  {
   "cell_type": "code",
   "execution_count": 3,
   "metadata": {
    "collapsed": false
   },
   "outputs": [
    {
     "data": {
      "text/html": [
       "<div>\n",
       "<table border=\"1\" class=\"dataframe\">\n",
       "  <thead>\n",
       "    <tr style=\"text-align: right;\">\n",
       "      <th></th>\n",
       "      <th></th>\n",
       "      <th>*ERA*</th>\n",
       "      <th>*SO*</th>\n",
       "      <th>*BAOpp*</th>\n",
       "      <th>*IPouts*</th>\n",
       "    </tr>\n",
       "    <tr>\n",
       "      <th>yearID</th>\n",
       "      <th>teamID</th>\n",
       "      <th></th>\n",
       "      <th></th>\n",
       "      <th></th>\n",
       "      <th></th>\n",
       "    </tr>\n",
       "  </thead>\n",
       "  <tbody>\n",
       "    <tr>\n",
       "      <th rowspan=\"5\" valign=\"top\">2000</th>\n",
       "      <th>ANA</th>\n",
       "      <td>5.418571</td>\n",
       "      <td>56.142857</td>\n",
       "      <td>0.273143</td>\n",
       "      <td>308.285714</td>\n",
       "    </tr>\n",
       "    <tr>\n",
       "      <th>ARI</th>\n",
       "      <td>4.630000</td>\n",
       "      <td>122.166667</td>\n",
       "      <td>0.268667</td>\n",
       "      <td>460.833333</td>\n",
       "    </tr>\n",
       "    <tr>\n",
       "      <th>ATL</th>\n",
       "      <td>4.198333</td>\n",
       "      <td>125.500000</td>\n",
       "      <td>0.270333</td>\n",
       "      <td>546.000000</td>\n",
       "    </tr>\n",
       "    <tr>\n",
       "      <th>BAL</th>\n",
       "      <td>5.570000</td>\n",
       "      <td>109.666667</td>\n",
       "      <td>0.280000</td>\n",
       "      <td>489.833333</td>\n",
       "    </tr>\n",
       "    <tr>\n",
       "      <th>BOS</th>\n",
       "      <td>4.690000</td>\n",
       "      <td>92.875000</td>\n",
       "      <td>0.259750</td>\n",
       "      <td>350.625000</td>\n",
       "    </tr>\n",
       "  </tbody>\n",
       "</table>\n",
       "</div>"
      ],
      "text/plain": [
       "                  *ERA*        *SO*   *BAOpp*    *IPouts*\n",
       "yearID teamID                                            \n",
       "2000   ANA     5.418571   56.142857  0.273143  308.285714\n",
       "       ARI     4.630000  122.166667  0.268667  460.833333\n",
       "       ATL     4.198333  125.500000  0.270333  546.000000\n",
       "       BAL     5.570000  109.666667  0.280000  489.833333\n",
       "       BOS     4.690000   92.875000  0.259750  350.625000"
      ]
     },
     "execution_count": 3,
     "metadata": {},
     "output_type": "execute_result"
    }
   ],
   "source": [
    "# Combine statistics of starters for a specific team in a specific year. And select the statistics relevant to this project.\n",
    "starters_df=pitching_df.groupby(['yearID', 'teamID']).mean()[['SO', 'BAOpp', 'ERA', 'IPouts']]\n",
    "\n",
    "# Change ERA column to SERA to stand for Starters' ERA to avoid confusion\n",
    "starters_df[['*ERA*', '*SO*', '*BAOpp*', '*IPouts*' ]]=starters_df[['ERA', 'SO','BAOpp', 'IPouts']]\n",
    "starters_df.drop(['ERA', 'SO', 'BAOpp', 'IPouts'],1, inplace=True)\n",
    "\n",
    "starters_df.head()"
   ]
  },
  {
   "cell_type": "markdown",
   "metadata": {},
   "source": [
    "### Combining Team Data and Starting Pitchers' Data"
   ]
  },
  {
   "cell_type": "code",
   "execution_count": 4,
   "metadata": {
    "collapsed": false
   },
   "outputs": [],
   "source": [
    "# Get rid of multiindex to prepare for a concatenation with team data\n",
    "starters_df.reset_index()\n",
    "starters_df.index=range(starters_df.shape[0])"
   ]
  },
  {
   "cell_type": "code",
   "execution_count": 5,
   "metadata": {
    "collapsed": false
   },
   "outputs": [],
   "source": [
    "# Repeat the stepd above for team data to prepare for a concatenation\n",
    "teams_df.reset_index()\n",
    "teams_df.index=range(teams_df.shape[0])"
   ]
  },
  {
   "cell_type": "code",
   "execution_count": 6,
   "metadata": {
    "collapsed": false
   },
   "outputs": [
    {
     "data": {
      "text/html": [
       "<div>\n",
       "<table border=\"1\" class=\"dataframe\">\n",
       "  <thead>\n",
       "    <tr style=\"text-align: right;\">\n",
       "      <th></th>\n",
       "      <th>yearID</th>\n",
       "      <th>teamID</th>\n",
       "      <th>W</th>\n",
       "      <th>G</th>\n",
       "      <th>HR</th>\n",
       "      <th>R</th>\n",
       "      <th>AB</th>\n",
       "      <th>H</th>\n",
       "      <th>BB</th>\n",
       "      <th>HBP</th>\n",
       "      <th>...</th>\n",
       "      <th>HA</th>\n",
       "      <th>BBA</th>\n",
       "      <th>SOA</th>\n",
       "      <th>SV</th>\n",
       "      <th>attendance</th>\n",
       "      <th>BPF</th>\n",
       "      <th>*ERA*</th>\n",
       "      <th>*SO*</th>\n",
       "      <th>*BAOpp*</th>\n",
       "      <th>*IPouts*</th>\n",
       "    </tr>\n",
       "  </thead>\n",
       "  <tbody>\n",
       "    <tr>\n",
       "      <th>0</th>\n",
       "      <td>2000</td>\n",
       "      <td>ANA</td>\n",
       "      <td>82</td>\n",
       "      <td>162</td>\n",
       "      <td>236</td>\n",
       "      <td>864</td>\n",
       "      <td>5628</td>\n",
       "      <td>1574</td>\n",
       "      <td>608</td>\n",
       "      <td>47.0</td>\n",
       "      <td>...</td>\n",
       "      <td>1534</td>\n",
       "      <td>662</td>\n",
       "      <td>846</td>\n",
       "      <td>46</td>\n",
       "      <td>2066982.0</td>\n",
       "      <td>102</td>\n",
       "      <td>5.418571</td>\n",
       "      <td>56.142857</td>\n",
       "      <td>0.273143</td>\n",
       "      <td>308.285714</td>\n",
       "    </tr>\n",
       "    <tr>\n",
       "      <th>1</th>\n",
       "      <td>2000</td>\n",
       "      <td>ARI</td>\n",
       "      <td>85</td>\n",
       "      <td>162</td>\n",
       "      <td>179</td>\n",
       "      <td>792</td>\n",
       "      <td>5527</td>\n",
       "      <td>1466</td>\n",
       "      <td>535</td>\n",
       "      <td>59.0</td>\n",
       "      <td>...</td>\n",
       "      <td>1441</td>\n",
       "      <td>500</td>\n",
       "      <td>1220</td>\n",
       "      <td>38</td>\n",
       "      <td>2942251.0</td>\n",
       "      <td>105</td>\n",
       "      <td>4.630000</td>\n",
       "      <td>122.166667</td>\n",
       "      <td>0.268667</td>\n",
       "      <td>460.833333</td>\n",
       "    </tr>\n",
       "    <tr>\n",
       "      <th>2</th>\n",
       "      <td>2000</td>\n",
       "      <td>ATL</td>\n",
       "      <td>95</td>\n",
       "      <td>162</td>\n",
       "      <td>179</td>\n",
       "      <td>810</td>\n",
       "      <td>5489</td>\n",
       "      <td>1490</td>\n",
       "      <td>595</td>\n",
       "      <td>59.0</td>\n",
       "      <td>...</td>\n",
       "      <td>1428</td>\n",
       "      <td>484</td>\n",
       "      <td>1093</td>\n",
       "      <td>53</td>\n",
       "      <td>3234304.0</td>\n",
       "      <td>101</td>\n",
       "      <td>4.198333</td>\n",
       "      <td>125.500000</td>\n",
       "      <td>0.270333</td>\n",
       "      <td>546.000000</td>\n",
       "    </tr>\n",
       "    <tr>\n",
       "      <th>3</th>\n",
       "      <td>2000</td>\n",
       "      <td>BAL</td>\n",
       "      <td>74</td>\n",
       "      <td>162</td>\n",
       "      <td>184</td>\n",
       "      <td>794</td>\n",
       "      <td>5549</td>\n",
       "      <td>1508</td>\n",
       "      <td>558</td>\n",
       "      <td>49.0</td>\n",
       "      <td>...</td>\n",
       "      <td>1547</td>\n",
       "      <td>665</td>\n",
       "      <td>1017</td>\n",
       "      <td>33</td>\n",
       "      <td>3297031.0</td>\n",
       "      <td>95</td>\n",
       "      <td>5.570000</td>\n",
       "      <td>109.666667</td>\n",
       "      <td>0.280000</td>\n",
       "      <td>489.833333</td>\n",
       "    </tr>\n",
       "    <tr>\n",
       "      <th>4</th>\n",
       "      <td>2000</td>\n",
       "      <td>BOS</td>\n",
       "      <td>85</td>\n",
       "      <td>162</td>\n",
       "      <td>167</td>\n",
       "      <td>792</td>\n",
       "      <td>5630</td>\n",
       "      <td>1503</td>\n",
       "      <td>611</td>\n",
       "      <td>42.0</td>\n",
       "      <td>...</td>\n",
       "      <td>1433</td>\n",
       "      <td>498</td>\n",
       "      <td>1121</td>\n",
       "      <td>46</td>\n",
       "      <td>2585895.0</td>\n",
       "      <td>104</td>\n",
       "      <td>4.690000</td>\n",
       "      <td>92.875000</td>\n",
       "      <td>0.259750</td>\n",
       "      <td>350.625000</td>\n",
       "    </tr>\n",
       "  </tbody>\n",
       "</table>\n",
       "<p>5 rows × 30 columns</p>\n",
       "</div>"
      ],
      "text/plain": [
       "   yearID teamID   W    G   HR    R    AB     H   BB   HBP     ...        HA  \\\n",
       "0    2000    ANA  82  162  236  864  5628  1574  608  47.0     ...      1534   \n",
       "1    2000    ARI  85  162  179  792  5527  1466  535  59.0     ...      1441   \n",
       "2    2000    ATL  95  162  179  810  5489  1490  595  59.0     ...      1428   \n",
       "3    2000    BAL  74  162  184  794  5549  1508  558  49.0     ...      1547   \n",
       "4    2000    BOS  85  162  167  792  5630  1503  611  42.0     ...      1433   \n",
       "\n",
       "   BBA   SOA  SV  attendance  BPF     *ERA*        *SO*   *BAOpp*    *IPouts*  \n",
       "0  662   846  46   2066982.0  102  5.418571   56.142857  0.273143  308.285714  \n",
       "1  500  1220  38   2942251.0  105  4.630000  122.166667  0.268667  460.833333  \n",
       "2  484  1093  53   3234304.0  101  4.198333  125.500000  0.270333  546.000000  \n",
       "3  665  1017  33   3297031.0   95  5.570000  109.666667  0.280000  489.833333  \n",
       "4  498  1121  46   2585895.0  104  4.690000   92.875000  0.259750  350.625000  \n",
       "\n",
       "[5 rows x 30 columns]"
      ]
     },
     "execution_count": 6,
     "metadata": {},
     "output_type": "execute_result"
    }
   ],
   "source": [
    "# Concatenate. Since starters data and team data share the same ordering of the team. Simple concatenation works!\n",
    "df=pd.concat([teams_df, starters_df], axis=1)\n",
    "df.head()"
   ]
  },
  {
   "cell_type": "markdown",
   "metadata": {
    "collapsed": false
   },
   "source": [
    "## Standardizing Data"
   ]
  },
  {
   "cell_type": "markdown",
   "metadata": {},
   "source": [
    "### Calculate Needed Statistics"
   ]
  },
  {
   "cell_type": "code",
   "execution_count": 7,
   "metadata": {
    "collapsed": false
   },
   "outputs": [],
   "source": [
    "#Allow making assignments withoout getting warnings\n",
    "pd.options.mode.chained_assignment = None\n",
    "\n",
    "#Make new columns with new statistics\n",
    "df['OBP']=(df['H']+df['BB']+df['HBP'])/(df['AB']+df['BB']+df['HBP']+df['SF'])\n",
    "\n",
    "df['SLG'] = (df['H']-(df['2B']+df['3B']+df['HR'])+2*df['HR']+3*df['3B']+4*df['HR'])/df['AB']\n",
    "\n",
    "df['BA'] = df['H']/df['AB']\n",
    "\n",
    "df['WR']=df['W']/df['G']\n",
    "\n",
    "df['OPS']=df['OBP']+df['SLG']"
   ]
  },
  {
   "cell_type": "markdown",
   "metadata": {},
   "source": [
    "### Correct for statistics that are better when smaller"
   ]
  },
  {
   "cell_type": "code",
   "execution_count": 8,
   "metadata": {
    "collapsed": false
   },
   "outputs": [
    {
     "data": {
      "text/html": [
       "<div>\n",
       "<table border=\"1\" class=\"dataframe\">\n",
       "  <thead>\n",
       "    <tr style=\"text-align: right;\">\n",
       "      <th></th>\n",
       "      <th>yearID</th>\n",
       "      <th>teamID</th>\n",
       "      <th>W</th>\n",
       "      <th>G</th>\n",
       "      <th>HR</th>\n",
       "      <th>R</th>\n",
       "      <th>AB</th>\n",
       "      <th>H</th>\n",
       "      <th>BB</th>\n",
       "      <th>HBP</th>\n",
       "      <th>...</th>\n",
       "      <th>BPF</th>\n",
       "      <th>*ERA*</th>\n",
       "      <th>*SO*</th>\n",
       "      <th>*BAOpp*</th>\n",
       "      <th>*IPouts*</th>\n",
       "      <th>OBP</th>\n",
       "      <th>SLG</th>\n",
       "      <th>BA</th>\n",
       "      <th>WR</th>\n",
       "      <th>OPS</th>\n",
       "    </tr>\n",
       "  </thead>\n",
       "  <tbody>\n",
       "    <tr>\n",
       "      <th>0</th>\n",
       "      <td>2000</td>\n",
       "      <td>ANA</td>\n",
       "      <td>82</td>\n",
       "      <td>162</td>\n",
       "      <td>236</td>\n",
       "      <td>864</td>\n",
       "      <td>5628</td>\n",
       "      <td>1574</td>\n",
       "      <td>608</td>\n",
       "      <td>47.0</td>\n",
       "      <td>...</td>\n",
       "      <td>102</td>\n",
       "      <td>-5.418571</td>\n",
       "      <td>56.142857</td>\n",
       "      <td>-0.273143</td>\n",
       "      <td>308.285714</td>\n",
       "      <td>0.352355</td>\n",
       "      <td>0.446517</td>\n",
       "      <td>0.279673</td>\n",
       "      <td>0.506173</td>\n",
       "      <td>0.798873</td>\n",
       "    </tr>\n",
       "    <tr>\n",
       "      <th>1</th>\n",
       "      <td>2000</td>\n",
       "      <td>ARI</td>\n",
       "      <td>85</td>\n",
       "      <td>162</td>\n",
       "      <td>179</td>\n",
       "      <td>792</td>\n",
       "      <td>5527</td>\n",
       "      <td>1466</td>\n",
       "      <td>535</td>\n",
       "      <td>59.0</td>\n",
       "      <td>...</td>\n",
       "      <td>105</td>\n",
       "      <td>-4.630000</td>\n",
       "      <td>122.166667</td>\n",
       "      <td>-0.268667</td>\n",
       "      <td>460.833333</td>\n",
       "      <td>0.333387</td>\n",
       "      <td>0.392075</td>\n",
       "      <td>0.265243</td>\n",
       "      <td>0.524691</td>\n",
       "      <td>0.725463</td>\n",
       "    </tr>\n",
       "    <tr>\n",
       "      <th>2</th>\n",
       "      <td>2000</td>\n",
       "      <td>ATL</td>\n",
       "      <td>95</td>\n",
       "      <td>162</td>\n",
       "      <td>179</td>\n",
       "      <td>810</td>\n",
       "      <td>5489</td>\n",
       "      <td>1490</td>\n",
       "      <td>595</td>\n",
       "      <td>59.0</td>\n",
       "      <td>...</td>\n",
       "      <td>101</td>\n",
       "      <td>-4.198333</td>\n",
       "      <td>125.500000</td>\n",
       "      <td>-0.270333</td>\n",
       "      <td>546.000000</td>\n",
       "      <td>0.346477</td>\n",
       "      <td>0.394061</td>\n",
       "      <td>0.271452</td>\n",
       "      <td>0.586420</td>\n",
       "      <td>0.740538</td>\n",
       "    </tr>\n",
       "    <tr>\n",
       "      <th>3</th>\n",
       "      <td>2000</td>\n",
       "      <td>BAL</td>\n",
       "      <td>74</td>\n",
       "      <td>162</td>\n",
       "      <td>184</td>\n",
       "      <td>794</td>\n",
       "      <td>5549</td>\n",
       "      <td>1508</td>\n",
       "      <td>558</td>\n",
       "      <td>49.0</td>\n",
       "      <td>...</td>\n",
       "      <td>95</td>\n",
       "      <td>-5.570000</td>\n",
       "      <td>109.666667</td>\n",
       "      <td>-0.280000</td>\n",
       "      <td>489.833333</td>\n",
       "      <td>0.340580</td>\n",
       "      <td>0.389620</td>\n",
       "      <td>0.271761</td>\n",
       "      <td>0.456790</td>\n",
       "      <td>0.730199</td>\n",
       "    </tr>\n",
       "    <tr>\n",
       "      <th>4</th>\n",
       "      <td>2000</td>\n",
       "      <td>BOS</td>\n",
       "      <td>85</td>\n",
       "      <td>162</td>\n",
       "      <td>167</td>\n",
       "      <td>792</td>\n",
       "      <td>5630</td>\n",
       "      <td>1503</td>\n",
       "      <td>611</td>\n",
       "      <td>42.0</td>\n",
       "      <td>...</td>\n",
       "      <td>104</td>\n",
       "      <td>-4.690000</td>\n",
       "      <td>92.875000</td>\n",
       "      <td>-0.259750</td>\n",
       "      <td>350.625000</td>\n",
       "      <td>0.340547</td>\n",
       "      <td>0.370515</td>\n",
       "      <td>0.266963</td>\n",
       "      <td>0.524691</td>\n",
       "      <td>0.711062</td>\n",
       "    </tr>\n",
       "  </tbody>\n",
       "</table>\n",
       "<p>5 rows × 35 columns</p>\n",
       "</div>"
      ],
      "text/plain": [
       "   yearID teamID   W    G   HR    R    AB     H   BB   HBP    ...     BPF  \\\n",
       "0    2000    ANA  82  162  236  864  5628  1574  608  47.0    ...     102   \n",
       "1    2000    ARI  85  162  179  792  5527  1466  535  59.0    ...     105   \n",
       "2    2000    ATL  95  162  179  810  5489  1490  595  59.0    ...     101   \n",
       "3    2000    BAL  74  162  184  794  5549  1508  558  49.0    ...      95   \n",
       "4    2000    BOS  85  162  167  792  5630  1503  611  42.0    ...     104   \n",
       "\n",
       "      *ERA*        *SO*   *BAOpp*    *IPouts*       OBP       SLG        BA  \\\n",
       "0 -5.418571   56.142857 -0.273143  308.285714  0.352355  0.446517  0.279673   \n",
       "1 -4.630000  122.166667 -0.268667  460.833333  0.333387  0.392075  0.265243   \n",
       "2 -4.198333  125.500000 -0.270333  546.000000  0.346477  0.394061  0.271452   \n",
       "3 -5.570000  109.666667 -0.280000  489.833333  0.340580  0.389620  0.271761   \n",
       "4 -4.690000   92.875000 -0.259750  350.625000  0.340547  0.370515  0.266963   \n",
       "\n",
       "         WR       OPS  \n",
       "0  0.506173  0.798873  \n",
       "1  0.524691  0.725463  \n",
       "2  0.586420  0.740538  \n",
       "3  0.456790  0.730199  \n",
       "4  0.524691  0.711062  \n",
       "\n",
       "[5 rows x 35 columns]"
      ]
     },
     "execution_count": 8,
     "metadata": {},
     "output_type": "execute_result"
    }
   ],
   "source": [
    "#Change defensive statistics so that all correlations can be easily compared\n",
    "df[['ERA', 'Rank', 'E', 'HRA','HA', '*ERA*', '*BAOpp*', 'BBA']]=df[['ERA', 'Rank', 'E', 'HRA','HA', '*ERA*', '*BAOpp*', 'BBA']]*-1\n",
    "\n",
    "\n",
    "df.head()"
   ]
  },
  {
   "cell_type": "markdown",
   "metadata": {},
   "source": [
    "### Standardize\n",
    "> **Method**: Baseball statistics are only relative. A batting average(BA) of 0.270 is fine in most years, but in some years, it may even be below average. The strike zones can change year by year; some rules may change as well. Therefore, I will standardize all data by the average of all teams in a given year. This way, all statistics will be fairly evaluated.\n"
   ]
  },
  {
   "cell_type": "code",
   "execution_count": 9,
   "metadata": {
    "collapsed": false
   },
   "outputs": [],
   "source": [
    "# define standardize method\n",
    "def standardize(df):\n",
    "\n",
    "    return (df-df.mean())/(df.std(ddof=0))\n",
    "\n",
    "# standardize all data\n",
    "std_data=df.groupby('yearID')[['HR', 'R', 'AB', 'H','BB', 'HBP', 'SB','SF', '2B', '3B','OBP', 'SLG', 'OPS','BA', 'ERA', 'FP', 'E', 'DP', 'HRA', 'HA','BBA', 'SOA', '*SO*', '*BAOpp*', '*ERA*', '*IPouts*']].apply(standardize)\n",
    "\n",
    "# win ratio does not have to be standardized\n",
    "std_data['WR']=df['WR']\n"
   ]
  },
  {
   "cell_type": "markdown",
   "metadata": {},
   "source": [
    "## Correlation with Win Ratio\n",
    "### Correlation Bar Graph"
   ]
  },
  {
   "cell_type": "code",
   "execution_count": 10,
   "metadata": {
    "collapsed": false
   },
   "outputs": [
    {
     "name": "stdout",
     "output_type": "stream",
     "text": [
      "Populating the interactive namespace from numpy and matplotlib\n"
     ]
    }
   ],
   "source": [
    "%pylab inline\n",
    "import matplotlib.pyplot as plt\n",
    "import seaborn as sns"
   ]
  },
  {
   "cell_type": "code",
   "execution_count": 11,
   "metadata": {
    "collapsed": false
   },
   "outputs": [
    {
     "data": {
      "text/plain": [
       "<matplotlib.text.Text at 0xb5ac9e8>"
      ]
     },
     "execution_count": 11,
     "metadata": {},
     "output_type": "execute_result"
    },
    {
     "data": {
      "image/png": "[encoded data removed]",
      "text/plain": [
       "<matplotlib.figure.Figure at 0x80c0940>"
      ]
     },
     "metadata": {},
     "output_type": "display_data"
    }
   ],
   "source": [
    "# Plot bar chart of all correlations of each factor with Win Ratio\n",
    "std_data[['HR', 'AB', 'H','BB', 'HBP','SB', 'SF', '2B', '3B','OBP', 'SLG', 'OPS','BA', 'FP', 'E', 'DP', 'HRA','SOA', '*SO*', '*BAOpp*', '*ERA*', '*IPouts*', 'BBA']].apply(lambda x: x.corr(std_data['WR'])).plot(kind='bar', title =\"What do teams need to win?\", figsize=(18, 15), fontsize=12, rot=0)\n",
    "plt.xlabel('')\n",
    "plt.ylabel('Statistics')"
   ]
  },
  {
   "cell_type": "markdown",
   "metadata": {},
   "source": [
    "### Takeaway from the Bar Graph\n",
    "\n",
    "The bar graph indicates that while some statistics such as on base percentage and starting pitchers' ERA are closely correlated with win ratio, some figures such as the number of double plays made or the number of bases stolen have little correlation, some of them even negative. In order clarify the findings, more analysis was necessary. \n"
   ]
  },
  {
   "cell_type": "markdown",
   "metadata": {},
   "source": [
    "### Correlation Table"
   ]
  },
  {
   "cell_type": "code",
   "execution_count": 212,
   "metadata": {
    "collapsed": false
   },
   "outputs": [],
   "source": [
    "# Make a table in which correlations for all statistics are recorded\n",
    "correlation_table=std_data[['HR', 'AB', 'H','BB', 'HBP','SB', 'SF', '2B', '3B','OBP', 'SLG', 'OPS','BA', 'FP', 'E', 'DP', 'HRA','SOA', '*SO*', '*BAOpp*', '*ERA*', '*IPouts*', 'BBA']].apply(lambda x: x.corr(std_data['WR']))"
   ]
  },
  {
   "cell_type": "code",
   "execution_count": 213,
   "metadata": {
    "collapsed": false
   },
   "outputs": [
    {
     "data": {
      "text/plain": [
       "OBP         0.591695\n",
       "*ERA*       0.575781\n",
       "OPS         0.567412\n",
       "BBA         0.510745\n",
       "SLG         0.484934\n",
       "*BAOpp*     0.473684\n",
       "*SO*        0.470883\n",
       "*IPouts*    0.458178\n",
       "BB          0.454417\n",
       "BA          0.427819\n",
       "HRA         0.419023\n",
       "HR          0.417725\n",
       "SOA         0.410525\n",
       "FP          0.387492\n",
       "H           0.386580\n",
       "E           0.380430\n",
       "SF          0.303788\n",
       "2B          0.243037\n",
       "AB          0.178778\n",
       "HBP         0.171911\n",
       "SB          0.038509\n",
       "3B         -0.071327\n",
       "DP         -0.202769\n",
       "dtype: float64"
      ]
     },
     "execution_count": 213,
     "metadata": {},
     "output_type": "execute_result"
    }
   ],
   "source": [
    "# Sort the table\n",
    "correlation_table.sort_values(ascending=False)"
   ]
  },
  {
   "cell_type": "markdown",
   "metadata": {},
   "source": [
    "## Answer to Question 1\n",
    "Top ten statistics that are more closely related to win ratio are therefore, \n",
    "> 1. On base percentage\n",
    "2. Starting pitchers' ERA\n",
    "3. On base percentage + Slugging percentage\n",
    "4. Walks allowed\n",
    "5. Slugging percentage\n",
    "6. Opponent's batting average for starting pitchers\n",
    "7. Strike outs by starting pitchers\n",
    "8. Innings thrown by starting pitchers\n",
    "9. Walks by batters\n",
    "10. Batting averages\n",
    "\n",
    "As DePodesta predicted, on base percentage was a statistic most closely correlated to win ratio. However, slugging percentage ranked number five in the list meaning its correlation was weaker than what DePodesta would have predicted. Furthermore, the power of starting pitchers did prove to be a good predictor of a team's success as all four statistics were included in the top ten list.\n",
    "\n",
    "However, ranking is not enough to make conclusion about the powers of correlation each factor has with win ratio. In order to compare powers of correlations, some rigorous statistical testings are necessary."
   ]
  },
  {
   "cell_type": "markdown",
   "metadata": {},
   "source": [
    "## Correlation Comparison using Steiger's Z test\n",
    "Since correlations being compared are dependent sharing the same sample, Steiger's Z test was used. The formula was taken from quantpsy.org written by Ihno A. Lee and Kristopher J. Preacher."
   ]
  },
  {
   "cell_type": "markdown",
   "metadata": {},
   "source": [
    "### Cross Correlation"
   ]
  },
  {
   "cell_type": "code",
   "execution_count": 214,
   "metadata": {
    "collapsed": false
   },
   "outputs": [
    {
     "data": {
      "text/html": [
       "<div>\n",
       "<table border=\"1\" class=\"dataframe\">\n",
       "  <thead>\n",
       "    <tr style=\"text-align: right;\">\n",
       "      <th></th>\n",
       "      <th>OBP</th>\n",
       "      <th>SLG</th>\n",
       "      <th>OPS</th>\n",
       "      <th>BA</th>\n",
       "      <th>HRA</th>\n",
       "      <th>*SO*</th>\n",
       "      <th>*BAOpp*</th>\n",
       "      <th>*ERA*</th>\n",
       "      <th>*IPouts*</th>\n",
       "      <th>BBA</th>\n",
       "    </tr>\n",
       "  </thead>\n",
       "  <tbody>\n",
       "    <tr>\n",
       "      <th>OBP</th>\n",
       "      <td>1.000000</td>\n",
       "      <td>0.561156</td>\n",
       "      <td>0.752702</td>\n",
       "      <td>0.789950</td>\n",
       "      <td>0.041359</td>\n",
       "      <td>0.187745</td>\n",
       "      <td>0.051712</td>\n",
       "      <td>0.083650</td>\n",
       "      <td>0.194643</td>\n",
       "      <td>0.221236</td>\n",
       "    </tr>\n",
       "    <tr>\n",
       "      <th>SLG</th>\n",
       "      <td>0.561156</td>\n",
       "      <td>1.000000</td>\n",
       "      <td>0.966221</td>\n",
       "      <td>0.488652</td>\n",
       "      <td>-0.148728</td>\n",
       "      <td>0.177434</td>\n",
       "      <td>0.054702</td>\n",
       "      <td>0.007967</td>\n",
       "      <td>0.158784</td>\n",
       "      <td>0.120940</td>\n",
       "    </tr>\n",
       "    <tr>\n",
       "      <th>OPS</th>\n",
       "      <td>0.752702</td>\n",
       "      <td>0.966221</td>\n",
       "      <td>1.000000</td>\n",
       "      <td>0.630990</td>\n",
       "      <td>-0.105630</td>\n",
       "      <td>0.199431</td>\n",
       "      <td>0.061314</td>\n",
       "      <td>0.036239</td>\n",
       "      <td>0.187019</td>\n",
       "      <td>0.167554</td>\n",
       "    </tr>\n",
       "    <tr>\n",
       "      <th>BA</th>\n",
       "      <td>0.789950</td>\n",
       "      <td>0.488652</td>\n",
       "      <td>0.630990</td>\n",
       "      <td>1.000000</td>\n",
       "      <td>-0.044429</td>\n",
       "      <td>0.115281</td>\n",
       "      <td>-0.051011</td>\n",
       "      <td>-0.044258</td>\n",
       "      <td>0.148864</td>\n",
       "      <td>0.112600</td>\n",
       "    </tr>\n",
       "    <tr>\n",
       "      <th>HRA</th>\n",
       "      <td>0.041359</td>\n",
       "      <td>-0.148728</td>\n",
       "      <td>-0.105630</td>\n",
       "      <td>-0.044429</td>\n",
       "      <td>1.000000</td>\n",
       "      <td>0.293992</td>\n",
       "      <td>0.371278</td>\n",
       "      <td>0.540992</td>\n",
       "      <td>0.268555</td>\n",
       "      <td>0.174802</td>\n",
       "    </tr>\n",
       "  </tbody>\n",
       "</table>\n",
       "</div>"
      ],
      "text/plain": [
       "          OBP       SLG       OPS        BA       HRA      *SO*   *BAOpp*  \\\n",
       "OBP  1.000000  0.561156  0.752702  0.789950  0.041359  0.187745  0.051712   \n",
       "SLG  0.561156  1.000000  0.966221  0.488652 -0.148728  0.177434  0.054702   \n",
       "OPS  0.752702  0.966221  1.000000  0.630990 -0.105630  0.199431  0.061314   \n",
       "BA   0.789950  0.488652  0.630990  1.000000 -0.044429  0.115281 -0.051011   \n",
       "HRA  0.041359 -0.148728 -0.105630 -0.044429  1.000000  0.293992  0.371278   \n",
       "\n",
       "        *ERA*  *IPouts*       BBA  \n",
       "OBP  0.083650  0.194643  0.221236  \n",
       "SLG  0.007967  0.158784  0.120940  \n",
       "OPS  0.036239  0.187019  0.167554  \n",
       "BA  -0.044258  0.148864  0.112600  \n",
       "HRA  0.540992  0.268555  0.174802  "
      ]
     },
     "execution_count": 214,
     "metadata": {},
     "output_type": "execute_result"
    }
   ],
   "source": [
    "# Calculate cross correlations\n",
    "cross_correlation=std_data[['OBP', 'SLG', 'OPS','BA', 'HRA', '*SO*', '*BAOpp*', '*ERA*', '*IPouts*', 'BBA']].corr()\n",
    "cross_correlation.head()"
   ]
  },
  {
   "cell_type": "markdown",
   "metadata": {},
   "source": [
    "### Correlation Comparison Formula"
   ]
  },
  {
   "cell_type": "code",
   "execution_count": 215,
   "metadata": {
    "collapsed": false
   },
   "outputs": [],
   "source": [
    "def f_transformation(r):\n",
    "    return 0.5*(np.log(1+r)-np.log(1-r))\n",
    "\n",
    "\n",
    "def correlation_comparison(s1, s2):\n",
    "    r3=cross_correlation[s1][s2]\n",
    "    r1=correlation_table[s1]\n",
    "    r2=correlation_table[s2]\n",
    "    z1= f_transformation(r1)\n",
    "    z2= f_transformation(r2)\n",
    "\n",
    "    rm=(r1**2+r2**2)/2\n",
    "    f= (1-r3)/(2*(1-rm))\n",
    "    h= (1-(f*rm))/(1-rm)\n",
    "    \n",
    "    z=(z1-z2)*(np.sqrt(480-3)/np.sqrt(2*(1-r3)*h))\n",
    "    if z>1.96:\n",
    "        return 'Correlations for {} and {} are significantly different'.format(s1, s2)\n",
    "    if z<=1.96:\n",
    "        return 'Correlations for {} and {} are NOT significantly different'.format(s1, s2)    "
   ]
  },
  {
   "cell_type": "markdown",
   "metadata": {},
   "source": [
    "### Test Results"
   ]
  },
  {
   "cell_type": "code",
   "execution_count": 216,
   "metadata": {
    "collapsed": false
   },
   "outputs": [
    {
     "name": "stdout",
     "output_type": "stream",
     "text": [
      "Correlations for OBP and *ERA* are NOT significantly different\n",
      "\n",
      "Correlations for OBP and BBA are NOT significantly different\n",
      "\n",
      "Correlations for OBP and SLG are significantly different\n",
      "\n",
      "Correlations for SLG and BA are NOT significantly different\n",
      "\n",
      "Correlations for *ERA* and BA are significantly different\n"
     ]
    }
   ],
   "source": [
    "print correlation_comparison('OBP','*ERA*')\n",
    "print ''\n",
    "print correlation_comparison('OBP', 'BBA')\n",
    "print ''\n",
    "print correlation_comparison('OBP','SLG')\n",
    "print ''\n",
    "print correlation_comparison('SLG', 'BA')\n",
    "print ''\n",
    "print correlation_comparison('*ERA*', 'BA')"
   ]
  },
  {
   "cell_type": "markdown",
   "metadata": {},
   "source": [
    "## Answer to Question 2\n",
    "\n",
    "Although OBP had the greatest correlation with win ratio, the differences between the correlation for OBP and those for both ERA of starting pitchers and the number of walks allowed were not statistically significant at alpha = 0.05 level. \n",
    ">Therefore, it cannot be concluded that on base percentage(OBP) is a factor far more significant than others.\n",
    "\n",
    "Furthermore, although slugging percentage was indeed ranked higher than batting average, it was not a significantly more important factor as evidenced by the test. However, ERA of the starting pitchers was a factor significantly more important than the batting average.\n",
    ">Thus, sluggin percentage is not an especially important factor; in fact, it cannot be concluded that SLG is a factor significantly more important than batting average."
   ]
  },
  {
   "cell_type": "markdown",
   "metadata": {},
   "source": [
    "## Statistics with less correlated to WR"
   ]
  },
  {
   "cell_type": "markdown",
   "metadata": {},
   "source": [
    "### Factors with no relationship with win ratio\n",
    "It is generally believed that a correlation that is between -0.3 and 0.3 means there is no meaningful linear relationship between the two variables. Therefore, factors with such correlation were separated for analysis."
   ]
  },
  {
   "cell_type": "code",
   "execution_count": 217,
   "metadata": {
    "collapsed": false
   },
   "outputs": [
    {
     "data": {
      "text/plain": [
       "OBP         False\n",
       "*ERA*       False\n",
       "OPS         False\n",
       "BBA         False\n",
       "SLG         False\n",
       "*BAOpp*     False\n",
       "*SO*        False\n",
       "*IPouts*    False\n",
       "BB          False\n",
       "BA          False\n",
       "HRA         False\n",
       "HR          False\n",
       "SOA         False\n",
       "FP          False\n",
       "H           False\n",
       "E           False\n",
       "SF          False\n",
       "2B           True\n",
       "AB           True\n",
       "HBP          True\n",
       "SB           True\n",
       "3B           True\n",
       "DP           True\n",
       "dtype: bool"
      ]
     },
     "execution_count": 217,
     "metadata": {},
     "output_type": "execute_result"
    }
   ],
   "source": [
    "#Flag statistics with low correlation value\n",
    "correlation_table.sort_values(ascending=False).abs()<0.3"
   ]
  },
  {
   "cell_type": "markdown",
   "metadata": {},
   "source": [
    "In order to see whether a statistic with such low correlation value does indeed have no meaningful relationship, a scatter plot was drawn. As expected, the dots seemed to be plotted in a random fashion. Notice that the scatter plot was drawn between the number of doubles and win ratio. The number of doubles has the highest correlation value with win ratio among the six statistics labeled \"factors with no meaningful relationship.\""
   ]
  },
  {
   "cell_type": "code",
   "execution_count": 218,
   "metadata": {
    "collapsed": false
   },
   "outputs": [
    {
     "data": {
      "text/plain": [
       "<matplotlib.collections.PathCollection at 0x210f09e8>"
      ]
     },
     "execution_count": 218,
     "metadata": {},
     "output_type": "execute_result"
    },
    {
     "data": {
      "image/png": "[encoded data removed]",
      "text/plain": [
       "<matplotlib.figure.Figure at 0x1d0b62b0>"
      ]
     },
     "metadata": {},
     "output_type": "display_data"
    }
   ],
   "source": [
    "plt.scatter(std_data['WR'], std_data['2B'])"
   ]
  },
  {
   "cell_type": "markdown",
   "metadata": {},
   "source": [
    "It is very counterintuitive that the number of doubles, triples, bases stolen, and double plays correlate little with the win ratio. Although by not much, the number of double plays and triples in fact correlate negatively. This is even more intriguing since SLG, which is a measure of a power of batters that take number of doubles and triples into account, is a statistic correlate closely to win ratio but statistics that make up SLG do not.  "
   ]
  },
  {
   "cell_type": "markdown",
   "metadata": {
    "collapsed": true
   },
   "source": [
    "## Answer to Question 3\n",
    "The statistics with no meaningful correlation with win ratio are:\n",
    "> 1. Double Plays\n",
    "2. Triples\n",
    "3. Stolen Bases\n",
    "4. Hit By Pitchers\n",
    "5. At Bats\n",
    "6. Doubles"
   ]
  },
  {
   "cell_type": "markdown",
   "metadata": {},
   "source": [
    "## Correlation with Runs"
   ]
  },
  {
   "cell_type": "code",
   "execution_count": 219,
   "metadata": {
    "collapsed": false
   },
   "outputs": [
    {
     "data": {
      "text/plain": [
       "<matplotlib.axes._subplots.AxesSubplot at 0x1ddb89b0>"
      ]
     },
     "execution_count": 219,
     "metadata": {},
     "output_type": "execute_result"
    },
    {
     "data": {
      "image/png": "[encoded data removed]",
      "text/plain": [
       "<matplotlib.figure.Figure at 0x11c0bc18>"
      ]
     },
     "metadata": {},
     "output_type": "display_data"
    }
   ],
   "source": [
    "std_data[['HR', 'AB','BB', 'HBP','SB', 'SF', '2B', '3B','OBP', 'SLG', 'OPS','BA']].apply(lambda x: x.corr(std_data['R'])).plot(kind='bar', title =\"What do teams need to score?\", figsize=(15, 10), fontsize=12, rot=0)"
   ]
  },
  {
   "cell_type": "markdown",
   "metadata": {},
   "source": [
    "As DePodesta predicted, OBP, SLG, and OPS are better predictors of a team's offensive success. (they were more closely correlated to \"Runs.\") It is quite interesting to note that the number of stolen bases and the number of triples show no meaningful relationship here as well. "
   ]
  },
  {
   "cell_type": "markdown",
   "metadata": {},
   "source": [
    "## Correlation with ERA"
   ]
  },
  {
   "cell_type": "code",
   "execution_count": 220,
   "metadata": {
    "collapsed": false
   },
   "outputs": [
    {
     "data": {
      "text/plain": [
       "<matplotlib.axes._subplots.AxesSubplot at 0x21011128>"
      ]
     },
     "execution_count": 220,
     "metadata": {},
     "output_type": "execute_result"
    },
    {
     "data": {
      "image/png": "[encoded data removed]",
      "text/plain": [
       "<matplotlib.figure.Figure at 0x17cba208>"
      ]
     },
     "metadata": {},
     "output_type": "display_data"
    }
   ],
   "source": [
    "std_data[['BB','FP', 'E', 'DP', 'HRA','SOA', '*SO*', '*BAOpp*', '*ERA*', '*IPouts*', 'BBA']].apply(lambda x: x.corr(std_data['ERA'])).plot(kind='bar', title =\"What do teams need for defense?\", figsize=(15, 10), fontsize=12, rot=0)"
   ]
  },
  {
   "cell_type": "markdown",
   "metadata": {},
   "source": [
    "Here, it is interesting to note that fielding percentage, number of errors, and number of double plays have weak relationship or no meaningful relationship with ERA or the number of runs given to opponents average. All three are deemed to be good indicators of strength of a team's defense; however, it looks like that is not the case. In fact, the correlation between number of fielding percentage and ERA is not much different from the correlation between ERA and number of walks earned by the batters, which is an offensive statistic."
   ]
  },
  {
   "cell_type": "markdown",
   "metadata": {},
   "source": [
    "## Answer to Question 4\n",
    "Furthermore, running correlation with runs and ERA revealed that some of the statistics that deemed valuable by convention actually show no meaningful relationship with runs created or the strength of defense. The summary of findings was:\n",
    ">1. Number of bases stolen and the number of triples do not correlate with number of runs scored.\n",
    "2. Fielding percentage, which is a measure of a fielder's defensive strength, the number of errors, and the number of double plays do not correlate with ERA."
   ]
  },
  {
   "cell_type": "markdown",
   "metadata": {},
   "source": [
    "## Conclusions\n",
    "\n",
    "What DePodesta emphasized in early 2000's was \"getting on base.\" He discovered the power of simply getting on base and he was right. The analysis in this project shows also that he is still right to a certain extent. OBP is ranked number one among all statistics in correlation with win ratio. However, he was not quite right about the degree of OBP's significance. As shown by Steiger's Z test, although the correlation between OBP and win ratio was the highest, it was not significantly higher than that of starting pitchers' ERA and win ratio. Therefore, Korean view of baseball that puts much emphasis on strength of starting pitchers seems to be valid in Major League Baseball as well.\n",
    "\n",
    "Furthermore, although DePodesta may have overestimated the power of SLG, it was nonetheless a good predictor of a team's win percentage as well as a team's offensive success. However, interestingly, the number of doubles and triples, which together make up SLG, were not good predictors of a team's probability of victory.\n",
    "\n",
    "Lastly, it should be noted that some statistics that are deemed to indicate great value in baseball that actually show little correlation to meaningful results. The number of stolen bases, fielding percentage and the number of errors are such statistics. Therefore, a manager should be careful not to overvalue players who have outstanding records in those category but less than satisfactory records in other important measures such as OBP. \n"
   ]
  },
  {
   "cell_type": "markdown",
   "metadata": {},
   "source": [
    "### Souces\n",
    ">1. Lewis, M. (2003). Moneyball: The art of winning an unfair game. New York: W.W. Norton.\n",
    "2. Lee, I. A., & Preacher, K. J. (2013, September). Calculation for the test of the difference between two dependent correlations with one variable in common [Computer software]. Available from http://quantpsy.org."
   ]
  }
 ],
 "metadata": {
  "anaconda-cloud": {},
  "kernelspec": {
   "display_name": "Python [conda env:DAND]",
   "language": "python",
   "name": "conda-env-DAND-py"
  },
  "language_info": {
   "codemirror_mode": {
    "name": "ipython",
    "version": 2
   },
   "file_extension": ".py",
   "mimetype": "text/x-python",
   "name": "python",
   "nbconvert_exporter": "python",
   "pygments_lexer": "ipython2",
   "version": "2.7.12"
  }
 },
 "nbformat": 4,
 "nbformat_minor": 0
}
